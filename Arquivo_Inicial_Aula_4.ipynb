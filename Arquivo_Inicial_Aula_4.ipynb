{
  "cells": [
    {
      "cell_type": "markdown",
      "metadata": {
        "id": "view-in-github",
        "colab_type": "text"
      },
      "source": [
        "<a href=\"https://colab.research.google.com/github/pauloalexx/arquivos-legais/blob/main/Arquivo_Inicial_Aula_4.ipynb\" target=\"_parent\"><img src=\"https://colab.research.google.com/assets/colab-badge.svg\" alt=\"Open In Colab\"/></a>"
      ]
    },
    {
      "cell_type": "markdown",
      "metadata": {
        "id": "zf0TL0yMWzoJ"
      },
      "source": [
        "# Projeto Ciência de Dados - Previsão de Vendas\n",
        "\n",
        "- Nosso desafio é conseguir prever as vendas que vamos ter em determinado período com base nos gastos em anúncios nas 3 grandes redes que a empresa Hashtag investe: TV, Jornal e Rádio\n",
        "\n",
        "- Base de Dados: https://drive.google.com/drive/folders/1o2lpxoi9heyQV1hIlsHXWSfDkBPtze-V?usp=sharing"
      ]
    },
    {
      "cell_type": "markdown",
      "metadata": {
        "id": "HdSE-BpOWzoL"
      },
      "source": [
        "### Passo a Passo de um Projeto de Ciência de Dados\n",
        "\n",
        "- Passo 1: Entendimento do Desafio\n",
        "- Passo 2: Entendimento da Área/Empresa\n",
        "- Passo 3: Extração/Obtenção de Dados\n",
        "- Passo 4: Ajuste de Dados (Tratamento/Limpeza)\n",
        "- Passo 5: Análise Exploratória\n",
        "- Passo 6: Modelagem + Algoritmos (Aqui que entra a Inteligência Artificial, se necessário)\n",
        "- Passo 7: Interpretação de Resultados"
      ]
    },
    {
      "cell_type": "markdown",
      "metadata": {
        "id": "4entdEITWzoL"
      },
      "source": [
        "# Projeto Ciência de Dados - Previsão de Vendas\n",
        "\n",
        "- Nosso desafio é conseguir prever as vendas que vamos ter em determinado período com base nos gastos em anúncios nas 3 grandes redes que a empresa Hashtag investe: TV, Jornal e Rádio\n",
        "- TV, Jornal e Rádio estão em milhares de reais\n",
        "- Vendas estão em milhões"
      ]
    },
    {
      "cell_type": "code",
      "execution_count": null,
      "metadata": {
        "id": "6tizJVDDWzoM",
        "outputId": "a5022694-9b43-4cbf-baf1-be7ecf6fa096"
      },
      "outputs": [
        {
          "name": "stdout",
          "output_type": "stream",
          "text": [
            "Requirement already satisfied: matplotlib in c:\\users\\sheila.ferreira\\anaconda3\\lib\\site-packages (3.5.2)\n",
            "Requirement already satisfied: pyparsing>=2.2.1 in c:\\users\\sheila.ferreira\\anaconda3\\lib\\site-packages (from matplotlib) (3.0.9)\n",
            "Requirement already satisfied: fonttools>=4.22.0 in c:\\users\\sheila.ferreira\\anaconda3\\lib\\site-packages (from matplotlib) (4.25.0)\n",
            "Requirement already satisfied: pillow>=6.2.0 in c:\\users\\sheila.ferreira\\anaconda3\\lib\\site-packages (from matplotlib) (9.2.0)\n",
            "Requirement already satisfied: cycler>=0.10 in c:\\users\\sheila.ferreira\\anaconda3\\lib\\site-packages (from matplotlib) (0.11.0)\n",
            "Requirement already satisfied: python-dateutil>=2.7 in c:\\users\\sheila.ferreira\\anaconda3\\lib\\site-packages (from matplotlib) (2.8.2)\n",
            "Requirement already satisfied: numpy>=1.17 in c:\\users\\sheila.ferreira\\anaconda3\\lib\\site-packages (from matplotlib) (1.21.5)\n",
            "Requirement already satisfied: kiwisolver>=1.0.1 in c:\\users\\sheila.ferreira\\anaconda3\\lib\\site-packages (from matplotlib) (1.4.2)\n",
            "Requirement already satisfied: packaging>=20.0 in c:\\users\\sheila.ferreira\\anaconda3\\lib\\site-packages (from matplotlib) (21.3)\n",
            "Requirement already satisfied: six>=1.5 in c:\\users\\sheila.ferreira\\anaconda3\\lib\\site-packages (from python-dateutil>=2.7->matplotlib) (1.16.0)\n",
            "Requirement already satisfied: seaborn in c:\\users\\sheila.ferreira\\anaconda3\\lib\\site-packages (0.11.2)\n",
            "Requirement already satisfied: pandas>=0.23 in c:\\users\\sheila.ferreira\\anaconda3\\lib\\site-packages (from seaborn) (1.4.4)\n",
            "Requirement already satisfied: matplotlib>=2.2 in c:\\users\\sheila.ferreira\\anaconda3\\lib\\site-packages (from seaborn) (3.5.2)\n",
            "Requirement already satisfied: scipy>=1.0 in c:\\users\\sheila.ferreira\\anaconda3\\lib\\site-packages (from seaborn) (1.9.1)\n",
            "Requirement already satisfied: numpy>=1.15 in c:\\users\\sheila.ferreira\\anaconda3\\lib\\site-packages (from seaborn) (1.21.5)\n",
            "Requirement already satisfied: kiwisolver>=1.0.1 in c:\\users\\sheila.ferreira\\anaconda3\\lib\\site-packages (from matplotlib>=2.2->seaborn) (1.4.2)\n",
            "Requirement already satisfied: packaging>=20.0 in c:\\users\\sheila.ferreira\\anaconda3\\lib\\site-packages (from matplotlib>=2.2->seaborn) (21.3)\n",
            "Requirement already satisfied: fonttools>=4.22.0 in c:\\users\\sheila.ferreira\\anaconda3\\lib\\site-packages (from matplotlib>=2.2->seaborn) (4.25.0)\n",
            "Requirement already satisfied: pyparsing>=2.2.1 in c:\\users\\sheila.ferreira\\anaconda3\\lib\\site-packages (from matplotlib>=2.2->seaborn) (3.0.9)\n",
            "Requirement already satisfied: pillow>=6.2.0 in c:\\users\\sheila.ferreira\\anaconda3\\lib\\site-packages (from matplotlib>=2.2->seaborn) (9.2.0)\n",
            "Requirement already satisfied: cycler>=0.10 in c:\\users\\sheila.ferreira\\anaconda3\\lib\\site-packages (from matplotlib>=2.2->seaborn) (0.11.0)\n",
            "Requirement already satisfied: python-dateutil>=2.7 in c:\\users\\sheila.ferreira\\anaconda3\\lib\\site-packages (from matplotlib>=2.2->seaborn) (2.8.2)\n",
            "Requirement already satisfied: pytz>=2020.1 in c:\\users\\sheila.ferreira\\anaconda3\\lib\\site-packages (from pandas>=0.23->seaborn) (2022.1)\n",
            "Requirement already satisfied: six>=1.5 in c:\\users\\sheila.ferreira\\anaconda3\\lib\\site-packages (from python-dateutil>=2.7->matplotlib>=2.2->seaborn) (1.16.0)\n",
            "Requirement already satisfied: scikit-learn in c:\\users\\sheila.ferreira\\anaconda3\\lib\\site-packages (1.0.2)\n",
            "Requirement already satisfied: scipy>=1.1.0 in c:\\users\\sheila.ferreira\\anaconda3\\lib\\site-packages (from scikit-learn) (1.9.1)\n",
            "Requirement already satisfied: threadpoolctl>=2.0.0 in c:\\users\\sheila.ferreira\\anaconda3\\lib\\site-packages (from scikit-learn) (2.2.0)\n",
            "Requirement already satisfied: numpy>=1.14.6 in c:\\users\\sheila.ferreira\\anaconda3\\lib\\site-packages (from scikit-learn) (1.21.5)\n",
            "Requirement already satisfied: joblib>=0.11 in c:\\users\\sheila.ferreira\\anaconda3\\lib\\site-packages (from scikit-learn) (1.1.0)\n"
          ]
        }
      ],
      "source": [
        "!pip install matplotlib # biblioteca para plotagem gráfica\n",
        "!pip install seaborn # biblioteca derivada da matplotlib para plotagem de gráficos\n",
        "!pip install scikit-learn # biblioteca para modelo de IA, estatística e machine learning\n"
      ]
    },
    {
      "cell_type": "markdown",
      "metadata": {
        "id": "B99MJAt7WzoN"
      },
      "source": [
        "#### Importar a Base de dados"
      ]
    },
    {
      "cell_type": "code",
      "execution_count": null,
      "metadata": {
        "id": "gGaWGOvjWzoN",
        "outputId": "78a60169-ff95-4a3a-a330-58d478fc10a6"
      },
      "outputs": [
        {
          "data": {
            "text/html": [
              "<div>\n",
              "<style scoped>\n",
              "    .dataframe tbody tr th:only-of-type {\n",
              "        vertical-align: middle;\n",
              "    }\n",
              "\n",
              "    .dataframe tbody tr th {\n",
              "        vertical-align: top;\n",
              "    }\n",
              "\n",
              "    .dataframe thead th {\n",
              "        text-align: right;\n",
              "    }\n",
              "</style>\n",
              "<table border=\"1\" class=\"dataframe\">\n",
              "  <thead>\n",
              "    <tr style=\"text-align: right;\">\n",
              "      <th></th>\n",
              "      <th>TV</th>\n",
              "      <th>Radio</th>\n",
              "      <th>Jornal</th>\n",
              "      <th>Vendas</th>\n",
              "    </tr>\n",
              "  </thead>\n",
              "  <tbody>\n",
              "    <tr>\n",
              "      <th>0</th>\n",
              "      <td>230.1</td>\n",
              "      <td>37.8</td>\n",
              "      <td>69.2</td>\n",
              "      <td>22.1</td>\n",
              "    </tr>\n",
              "    <tr>\n",
              "      <th>1</th>\n",
              "      <td>44.5</td>\n",
              "      <td>39.3</td>\n",
              "      <td>45.1</td>\n",
              "      <td>10.4</td>\n",
              "    </tr>\n",
              "    <tr>\n",
              "      <th>2</th>\n",
              "      <td>17.2</td>\n",
              "      <td>45.9</td>\n",
              "      <td>69.3</td>\n",
              "      <td>12.0</td>\n",
              "    </tr>\n",
              "    <tr>\n",
              "      <th>3</th>\n",
              "      <td>151.5</td>\n",
              "      <td>41.3</td>\n",
              "      <td>58.5</td>\n",
              "      <td>16.5</td>\n",
              "    </tr>\n",
              "    <tr>\n",
              "      <th>4</th>\n",
              "      <td>180.8</td>\n",
              "      <td>10.8</td>\n",
              "      <td>58.4</td>\n",
              "      <td>17.9</td>\n",
              "    </tr>\n",
              "    <tr>\n",
              "      <th>...</th>\n",
              "      <td>...</td>\n",
              "      <td>...</td>\n",
              "      <td>...</td>\n",
              "      <td>...</td>\n",
              "    </tr>\n",
              "    <tr>\n",
              "      <th>195</th>\n",
              "      <td>38.2</td>\n",
              "      <td>3.7</td>\n",
              "      <td>13.8</td>\n",
              "      <td>7.6</td>\n",
              "    </tr>\n",
              "    <tr>\n",
              "      <th>196</th>\n",
              "      <td>94.2</td>\n",
              "      <td>4.9</td>\n",
              "      <td>8.1</td>\n",
              "      <td>14.0</td>\n",
              "    </tr>\n",
              "    <tr>\n",
              "      <th>197</th>\n",
              "      <td>177.0</td>\n",
              "      <td>9.3</td>\n",
              "      <td>6.4</td>\n",
              "      <td>14.8</td>\n",
              "    </tr>\n",
              "    <tr>\n",
              "      <th>198</th>\n",
              "      <td>283.6</td>\n",
              "      <td>42.0</td>\n",
              "      <td>66.2</td>\n",
              "      <td>25.5</td>\n",
              "    </tr>\n",
              "    <tr>\n",
              "      <th>199</th>\n",
              "      <td>232.1</td>\n",
              "      <td>8.6</td>\n",
              "      <td>8.7</td>\n",
              "      <td>18.4</td>\n",
              "    </tr>\n",
              "  </tbody>\n",
              "</table>\n",
              "<p>200 rows × 4 columns</p>\n",
              "</div>"
            ],
            "text/plain": [
              "        TV  Radio  Jornal  Vendas\n",
              "0    230.1   37.8    69.2    22.1\n",
              "1     44.5   39.3    45.1    10.4\n",
              "2     17.2   45.9    69.3    12.0\n",
              "3    151.5   41.3    58.5    16.5\n",
              "4    180.8   10.8    58.4    17.9\n",
              "..     ...    ...     ...     ...\n",
              "195   38.2    3.7    13.8     7.6\n",
              "196   94.2    4.9     8.1    14.0\n",
              "197  177.0    9.3     6.4    14.8\n",
              "198  283.6   42.0    66.2    25.5\n",
              "199  232.1    8.6     8.7    18.4\n",
              "\n",
              "[200 rows x 4 columns]"
            ]
          },
          "metadata": {},
          "output_type": "display_data"
        },
        {
          "name": "stdout",
          "output_type": "stream",
          "text": [
            "<class 'pandas.core.frame.DataFrame'>\n",
            "RangeIndex: 200 entries, 0 to 199\n",
            "Data columns (total 4 columns):\n",
            " #   Column  Non-Null Count  Dtype  \n",
            "---  ------  --------------  -----  \n",
            " 0   TV      200 non-null    float64\n",
            " 1   Radio   200 non-null    float64\n",
            " 2   Jornal  200 non-null    float64\n",
            " 3   Vendas  200 non-null    float64\n",
            "dtypes: float64(4)\n",
            "memory usage: 6.4 KB\n",
            "None\n"
          ]
        }
      ],
      "source": [
        "# Se não estiver usando Jupyter, devem ser instalados os pacotes:\n",
        "    # Pandas \n",
        "    # Openpyxl\n",
        "    # Numpy\n",
        "    \n",
        "import pandas as pd\n",
        "\n",
        "tabela = pd.read_csv('advertising.csv')\n",
        "\n",
        "display(tabela)\n",
        "print(tabela.info()) #verificação dos dados e tratamento caso necessário -> Tratamento vide aula 2"
      ]
    },
    {
      "cell_type": "markdown",
      "metadata": {
        "id": "2bcrCGiWWzoN"
      },
      "source": [
        "#### Análise Exploratória\n",
        "- Vamos tentar visualizar como as informações de cada item estão distribuídas\n",
        "- Vamos ver a correlação entre cada um dos itens"
      ]
    },
    {
      "cell_type": "code",
      "execution_count": null,
      "metadata": {
        "id": "teG-aox3WzoN",
        "outputId": "e113a175-cbf0-4eff-c127-63f4be9820ee"
      },
      "outputs": [
        {
          "name": "stdout",
          "output_type": "stream",
          "text": [
            "              TV     Radio    Jornal    Vendas\n",
            "TV      1.000000  0.054809  0.056648  0.901208\n",
            "Radio   0.054809  1.000000  0.354104  0.349631\n",
            "Jornal  0.056648  0.354104  1.000000  0.157960\n",
            "Vendas  0.901208  0.349631  0.157960  1.000000\n"
          ]
        },
        {
          "data": {
            "image/png": "[encoded data removed]",
            "text/plain": [
              "<Figure size 640x480 with 2 Axes>"
            ]
          },
          "metadata": {},
          "output_type": "display_data"
        }
      ],
      "source": [
        "import matplotlib.pyplot as plt\n",
        "import seaborn as sns\n",
        "\n",
        "# Correlação -> Número que varia de -1 a 1. O quão junto as 2 coisas (variáveis) caminham.\n",
        "# .corr -> faz a correlação entre os valores da tabela. Considerar a linha vendas com base em cada coluna\n",
        "print(tabela.corr())\n",
        "\n",
        "# criar um gráfico\n",
        "    # plotly\n",
        "    # matplotlib\n",
        "    # seaborn\n",
        "sns.heatmap(tabela.corr(),cmap = \"Greens\",annot = True)\n",
        "# exibir o gráfico\n",
        "# cmap -> Definir escala de cor\n",
        "# annot -> inserir rótulo de dados \n",
        "plt.show()"
      ]
    },
    {
      "cell_type": "markdown",
      "metadata": {
        "id": "IB0OtuX8WzoN"
      },
      "source": [
        "#### Com isso, podemos partir para a preparação dos dados para treinarmos o Modelo de Machine Learning\n",
        "\n",
        "- Separando em dados de treino e dados de teste"
      ]
    },
    {
      "cell_type": "code",
      "execution_count": null,
      "metadata": {
        "id": "Th9zCCteWzoO"
      },
      "outputs": [],
      "source": [
        "# Inteligência artificial\n",
        "# dividir a tabela em 2 classes: Inputs (x); Output (y)\n",
        "y = tabela['Vendas']\n",
        "x = tabela[['TV','Radio','Jornal']]\n",
        "\n",
        "# dividir a tabela em 2 partes: Dados de Treino e Dados de Teste\n",
        "from sklearn.model_selection import train_test_split # função para separar em treino e teste\n",
        "\n",
        "x_treino, x_teste, y_treino, y_teste = train_test_split(x,y, test_size=0.2) # função faz a separação de x em x_treino e x_teste; e faz separação de y em y_treino e y_teste -> Fazer sempre nessa ordem\n",
        "# parâmetro test_size = 0.3 significa que 30% dos dados serão usados nos testes.\n",
        "# parâmetro \"randon_state=1\" é para que a IA crie divisões aleatórias e ficar parado nela. \n",
        "# geralmente a proporção é de 70% para treino e 30% para teste ou 80% x 20%. \n",
        "## Pode ser usado o parâmetro \"train_test_split(x,y, test_size=0.2)\" para que ele faça nessa proporção de 20% dos dados\n"
      ]
    },
    {
      "cell_type": "markdown",
      "metadata": {
        "id": "r7odOOqXWzoO"
      },
      "source": [
        "#### Temos um problema de regressão - Vamos escolher os modelos que vamos usar:\n",
        "\n",
        "- Regressão Linear\n",
        "- RandomForest (Árvore de Decisão)"
      ]
    },
    {
      "cell_type": "code",
      "execution_count": null,
      "metadata": {
        "id": "jPJPXe5HWzoO",
        "outputId": "2078ee3d-33cf-4df3-d7c9-606a5c838a30"
      },
      "outputs": [
        {
          "data": {
            "text/plain": [
              "RandomForestRegressor()"
            ]
          },
          "execution_count": 71,
          "metadata": {},
          "output_type": "execute_result"
        }
      ],
      "source": [
        "# importar a inteligência artificial\n",
        "## sklearn é a principal biblioteca (pacote de código) para inteligência artificial \n",
        "from sklearn.linear_model import LinearRegression # importação da Regressão Linear\n",
        "from sklearn.ensemble import RandomForestRegressor # importação da Arvore de Decisão\n",
        "\n",
        "# criar a inteligência artificial\n",
        "modelo_regressaolinear = LinearRegression() # Variável recebe a equação de regressão linear (criação do modelo)\n",
        "modelo_arvoredecisao = RandomForestRegressor() # Variável recebe a equação da árvore de decisão (criação do modelo)\n",
        "\n",
        "# treinar a inteligência artificial\n",
        "modelo_regressaolinear.fit(x_treino,y_treino) # .fit -> função para treinar a variável que recebeu o modelo de regressão IA\n",
        "modelo_arvoredecisao.fit(x_treino,y_treino) # .fit -> função para treinar a variável que recebeu o modelo de regressão IA\n",
        "# ambos os modelos devem referenciar (receber) o x de treino com resultado no y de treino para preparação do modelo"
      ]
    },
    {
      "cell_type": "markdown",
      "metadata": {
        "id": "ZGpfts7IWzoO"
      },
      "source": [
        "#### Teste da AI e Avaliação do Melhor Modelo\n",
        "\n",
        "- Vamos usar o R² -> diz o % que o nosso modelo consegue explicar o que acontece"
      ]
    },
    {
      "cell_type": "code",
      "execution_count": null,
      "metadata": {
        "id": "S9ofevrOWzoP",
        "outputId": "a49c53e7-d5da-4164-c62b-38adc8dba62c"
      },
      "outputs": [
        {
          "name": "stdout",
          "output_type": "stream",
          "text": [
            "0.8970522298668991\n",
            "0.958380465100644\n"
          ]
        }
      ],
      "source": [
        "## Decidindo qual o melhor modelo a ser usado na IA!!\n",
        "\n",
        "# fazendo a previsão dos modelos de AI escolhidos para ver quem se aproxima mais da resposta real \n",
        "previsao_regressaolinear = modelo_regressaolinear.predict(x_teste)\n",
        "previsao_arvoredecisao = modelo_arvoredecisao.predict(x_teste)\n",
        "\n",
        "from sklearn.metrics import r2_score\n",
        "\n",
        "print(r2_score(y_teste, previsao_regressaolinear))\n",
        "print(r2_score(y_teste, previsao_arvoredecisao))\n",
        "\n",
        "# r2_score -> calcula o grau de certeza da previsão realizada (estatística)\n",
        "# a regressão com melhor r2_score deve ser acatada como o modelo que melhor explica o comportamento desse processo/situação"
      ]
    },
    {
      "cell_type": "markdown",
      "metadata": {
        "id": "L-qcolPUWzoP"
      },
      "source": [
        "#### Visualização Gráfica das Previsões"
      ]
    },
    {
      "cell_type": "code",
      "execution_count": null,
      "metadata": {
        "scrolled": false,
        "id": "N84H25xAWzoP",
        "outputId": "39dfff9c-f988-49dc-84f1-d3fbfc4160a2"
      },
      "outputs": [
        {
          "data": {
            "text/html": [
              "<div>\n",
              "<style scoped>\n",
              "    .dataframe tbody tr th:only-of-type {\n",
              "        vertical-align: middle;\n",
              "    }\n",
              "\n",
              "    .dataframe tbody tr th {\n",
              "        vertical-align: top;\n",
              "    }\n",
              "\n",
              "    .dataframe thead th {\n",
              "        text-align: right;\n",
              "    }\n",
              "</style>\n",
              "<table border=\"1\" class=\"dataframe\">\n",
              "  <thead>\n",
              "    <tr style=\"text-align: right;\">\n",
              "      <th></th>\n",
              "      <th>y_teste</th>\n",
              "      <th>Previsao Arvore Decisao</th>\n",
              "      <th>Previsao Regressao Linear</th>\n",
              "    </tr>\n",
              "  </thead>\n",
              "  <tbody>\n",
              "    <tr>\n",
              "      <th>106</th>\n",
              "      <td>7.2</td>\n",
              "      <td>7.307</td>\n",
              "      <td>7.096514</td>\n",
              "    </tr>\n",
              "    <tr>\n",
              "      <th>29</th>\n",
              "      <td>10.5</td>\n",
              "      <td>11.071</td>\n",
              "      <td>10.162855</td>\n",
              "    </tr>\n",
              "    <tr>\n",
              "      <th>31</th>\n",
              "      <td>11.9</td>\n",
              "      <td>12.312</td>\n",
              "      <td>12.637721</td>\n",
              "    </tr>\n",
              "    <tr>\n",
              "      <th>12</th>\n",
              "      <td>9.2</td>\n",
              "      <td>8.585</td>\n",
              "      <td>9.728751</td>\n",
              "    </tr>\n",
              "    <tr>\n",
              "      <th>65</th>\n",
              "      <td>11.3</td>\n",
              "      <td>11.056</td>\n",
              "      <td>9.297398</td>\n",
              "    </tr>\n",
              "    <tr>\n",
              "      <th>113</th>\n",
              "      <td>20.9</td>\n",
              "      <td>19.229</td>\n",
              "      <td>18.274240</td>\n",
              "    </tr>\n",
              "    <tr>\n",
              "      <th>99</th>\n",
              "      <td>17.2</td>\n",
              "      <td>15.838</td>\n",
              "      <td>16.555464</td>\n",
              "    </tr>\n",
              "    <tr>\n",
              "      <th>158</th>\n",
              "      <td>7.3</td>\n",
              "      <td>6.594</td>\n",
              "      <td>9.244438</td>\n",
              "    </tr>\n",
              "    <tr>\n",
              "      <th>116</th>\n",
              "      <td>12.2</td>\n",
              "      <td>12.125</td>\n",
              "      <td>13.726726</td>\n",
              "    </tr>\n",
              "    <tr>\n",
              "      <th>28</th>\n",
              "      <td>18.9</td>\n",
              "      <td>19.777</td>\n",
              "      <td>21.156115</td>\n",
              "    </tr>\n",
              "    <tr>\n",
              "      <th>109</th>\n",
              "      <td>19.8</td>\n",
              "      <td>19.856</td>\n",
              "      <td>21.480262</td>\n",
              "    </tr>\n",
              "    <tr>\n",
              "      <th>33</th>\n",
              "      <td>17.4</td>\n",
              "      <td>20.172</td>\n",
              "      <td>21.272476</td>\n",
              "    </tr>\n",
              "    <tr>\n",
              "      <th>167</th>\n",
              "      <td>17.2</td>\n",
              "      <td>16.907</td>\n",
              "      <td>16.425793</td>\n",
              "    </tr>\n",
              "    <tr>\n",
              "      <th>43</th>\n",
              "      <td>17.9</td>\n",
              "      <td>18.216</td>\n",
              "      <td>16.791562</td>\n",
              "    </tr>\n",
              "    <tr>\n",
              "      <th>124</th>\n",
              "      <td>19.7</td>\n",
              "      <td>19.920</td>\n",
              "      <td>20.718911</td>\n",
              "    </tr>\n",
              "    <tr>\n",
              "      <th>57</th>\n",
              "      <td>13.2</td>\n",
              "      <td>12.604</td>\n",
              "      <td>14.095524</td>\n",
              "    </tr>\n",
              "    <tr>\n",
              "      <th>62</th>\n",
              "      <td>20.7</td>\n",
              "      <td>19.899</td>\n",
              "      <td>19.356061</td>\n",
              "    </tr>\n",
              "    <tr>\n",
              "      <th>146</th>\n",
              "      <td>18.2</td>\n",
              "      <td>17.947</td>\n",
              "      <td>18.476152</td>\n",
              "    </tr>\n",
              "    <tr>\n",
              "      <th>83</th>\n",
              "      <td>13.6</td>\n",
              "      <td>13.355</td>\n",
              "      <td>13.188506</td>\n",
              "    </tr>\n",
              "    <tr>\n",
              "      <th>11</th>\n",
              "      <td>17.4</td>\n",
              "      <td>17.856</td>\n",
              "      <td>18.923963</td>\n",
              "    </tr>\n",
              "    <tr>\n",
              "      <th>108</th>\n",
              "      <td>5.3</td>\n",
              "      <td>5.928</td>\n",
              "      <td>5.267438</td>\n",
              "    </tr>\n",
              "    <tr>\n",
              "      <th>191</th>\n",
              "      <td>11.9</td>\n",
              "      <td>11.116</td>\n",
              "      <td>9.824780</td>\n",
              "    </tr>\n",
              "    <tr>\n",
              "      <th>185</th>\n",
              "      <td>22.6</td>\n",
              "      <td>22.458</td>\n",
              "      <td>20.738872</td>\n",
              "    </tr>\n",
              "    <tr>\n",
              "      <th>133</th>\n",
              "      <td>19.6</td>\n",
              "      <td>19.478</td>\n",
              "      <td>20.292256</td>\n",
              "    </tr>\n",
              "    <tr>\n",
              "      <th>129</th>\n",
              "      <td>9.7</td>\n",
              "      <td>9.867</td>\n",
              "      <td>9.118845</td>\n",
              "    </tr>\n",
              "    <tr>\n",
              "      <th>1</th>\n",
              "      <td>10.4</td>\n",
              "      <td>10.692</td>\n",
              "      <td>11.310298</td>\n",
              "    </tr>\n",
              "    <tr>\n",
              "      <th>78</th>\n",
              "      <td>5.3</td>\n",
              "      <td>4.107</td>\n",
              "      <td>8.091581</td>\n",
              "    </tr>\n",
              "    <tr>\n",
              "      <th>160</th>\n",
              "      <td>16.4</td>\n",
              "      <td>17.297</td>\n",
              "      <td>15.979629</td>\n",
              "    </tr>\n",
              "    <tr>\n",
              "      <th>139</th>\n",
              "      <td>20.7</td>\n",
              "      <td>21.678</td>\n",
              "      <td>19.486267</td>\n",
              "    </tr>\n",
              "    <tr>\n",
              "      <th>197</th>\n",
              "      <td>14.8</td>\n",
              "      <td>17.350</td>\n",
              "      <td>15.231234</td>\n",
              "    </tr>\n",
              "    <tr>\n",
              "      <th>13</th>\n",
              "      <td>13.7</td>\n",
              "      <td>12.078</td>\n",
              "      <td>10.679777</td>\n",
              "    </tr>\n",
              "    <tr>\n",
              "      <th>54</th>\n",
              "      <td>20.2</td>\n",
              "      <td>20.008</td>\n",
              "      <td>22.100678</td>\n",
              "    </tr>\n",
              "    <tr>\n",
              "      <th>38</th>\n",
              "      <td>10.1</td>\n",
              "      <td>9.970</td>\n",
              "      <td>9.831047</td>\n",
              "    </tr>\n",
              "    <tr>\n",
              "      <th>80</th>\n",
              "      <td>11.8</td>\n",
              "      <td>12.261</td>\n",
              "      <td>11.647273</td>\n",
              "    </tr>\n",
              "    <tr>\n",
              "      <th>192</th>\n",
              "      <td>5.9</td>\n",
              "      <td>6.962</td>\n",
              "      <td>5.907152</td>\n",
              "    </tr>\n",
              "    <tr>\n",
              "      <th>105</th>\n",
              "      <td>15.0</td>\n",
              "      <td>16.082</td>\n",
              "      <td>17.235443</td>\n",
              "    </tr>\n",
              "    <tr>\n",
              "      <th>131</th>\n",
              "      <td>17.7</td>\n",
              "      <td>16.842</td>\n",
              "      <td>19.399180</td>\n",
              "    </tr>\n",
              "    <tr>\n",
              "      <th>48</th>\n",
              "      <td>19.8</td>\n",
              "      <td>19.222</td>\n",
              "      <td>18.745841</td>\n",
              "    </tr>\n",
              "    <tr>\n",
              "      <th>156</th>\n",
              "      <td>15.3</td>\n",
              "      <td>14.500</td>\n",
              "      <td>14.491530</td>\n",
              "    </tr>\n",
              "    <tr>\n",
              "      <th>90</th>\n",
              "      <td>14.0</td>\n",
              "      <td>12.026</td>\n",
              "      <td>12.403349</td>\n",
              "    </tr>\n",
              "  </tbody>\n",
              "</table>\n",
              "</div>"
            ],
            "text/plain": [
              "     y_teste  Previsao Arvore Decisao  Previsao Regressao Linear\n",
              "106      7.2                    7.307                   7.096514\n",
              "29      10.5                   11.071                  10.162855\n",
              "31      11.9                   12.312                  12.637721\n",
              "12       9.2                    8.585                   9.728751\n",
              "65      11.3                   11.056                   9.297398\n",
              "113     20.9                   19.229                  18.274240\n",
              "99      17.2                   15.838                  16.555464\n",
              "158      7.3                    6.594                   9.244438\n",
              "116     12.2                   12.125                  13.726726\n",
              "28      18.9                   19.777                  21.156115\n",
              "109     19.8                   19.856                  21.480262\n",
              "33      17.4                   20.172                  21.272476\n",
              "167     17.2                   16.907                  16.425793\n",
              "43      17.9                   18.216                  16.791562\n",
              "124     19.7                   19.920                  20.718911\n",
              "57      13.2                   12.604                  14.095524\n",
              "62      20.7                   19.899                  19.356061\n",
              "146     18.2                   17.947                  18.476152\n",
              "83      13.6                   13.355                  13.188506\n",
              "11      17.4                   17.856                  18.923963\n",
              "108      5.3                    5.928                   5.267438\n",
              "191     11.9                   11.116                   9.824780\n",
              "185     22.6                   22.458                  20.738872\n",
              "133     19.6                   19.478                  20.292256\n",
              "129      9.7                    9.867                   9.118845\n",
              "1       10.4                   10.692                  11.310298\n",
              "78       5.3                    4.107                   8.091581\n",
              "160     16.4                   17.297                  15.979629\n",
              "139     20.7                   21.678                  19.486267\n",
              "197     14.8                   17.350                  15.231234\n",
              "13      13.7                   12.078                  10.679777\n",
              "54      20.2                   20.008                  22.100678\n",
              "38      10.1                    9.970                   9.831047\n",
              "80      11.8                   12.261                  11.647273\n",
              "192      5.9                    6.962                   5.907152\n",
              "105     15.0                   16.082                  17.235443\n",
              "131     17.7                   16.842                  19.399180\n",
              "48      19.8                   19.222                  18.745841\n",
              "156     15.3                   14.500                  14.491530\n",
              "90      14.0                   12.026                  12.403349"
            ]
          },
          "metadata": {},
          "output_type": "display_data"
        },
        {
          "data": {
            "image/png": "[encoded data removed]",
            "text/plain": [
              "<Figure size 640x480 with 1 Axes>"
            ]
          },
          "metadata": {},
          "output_type": "display_data"
        }
      ],
      "source": [
        "# para criar previsão gráfica, é necessário fazer uma tabela auxiliar\n",
        "\n",
        "tabela_aux = pd.DataFrame() #cria tabela em branco\n",
        "tabela_aux['y_teste'] = y_teste # criação de coluna e iguala ao valor que ela receberá\n",
        "tabela_aux['Previsao Arvore Decisao'] = previsao_arvoredecisao\n",
        "tabela_aux['Previsao Regressao Linear'] = previsao_regressaolinear\n",
        "\n",
        "sns.lineplot(data=tabela_aux) # criação (plotagem) do gráfico em linha\n",
        "plt.show # mostra o gráfico criado\n",
        "\n",
        "display(tabela_aux)"
      ]
    },
    {
      "cell_type": "markdown",
      "metadata": {
        "id": "E782oFtpWzoP"
      },
      "source": [
        "#### Como fazer uma nova previsão?"
      ]
    },
    {
      "cell_type": "code",
      "execution_count": null,
      "metadata": {
        "id": "aE2qt9n7WzoP",
        "outputId": "6b1aab92-42b3-4abe-d257-825ced5f3970"
      },
      "outputs": [
        {
          "data": {
            "text/html": [
              "<div>\n",
              "<style scoped>\n",
              "    .dataframe tbody tr th:only-of-type {\n",
              "        vertical-align: middle;\n",
              "    }\n",
              "\n",
              "    .dataframe tbody tr th {\n",
              "        vertical-align: top;\n",
              "    }\n",
              "\n",
              "    .dataframe thead th {\n",
              "        text-align: right;\n",
              "    }\n",
              "</style>\n",
              "<table border=\"1\" class=\"dataframe\">\n",
              "  <thead>\n",
              "    <tr style=\"text-align: right;\">\n",
              "      <th></th>\n",
              "      <th>TV</th>\n",
              "      <th>Radio</th>\n",
              "      <th>Jornal</th>\n",
              "    </tr>\n",
              "  </thead>\n",
              "  <tbody>\n",
              "    <tr>\n",
              "      <th>0</th>\n",
              "      <td>23.1</td>\n",
              "      <td>3.8</td>\n",
              "      <td>69.2</td>\n",
              "    </tr>\n",
              "    <tr>\n",
              "      <th>1</th>\n",
              "      <td>44.5</td>\n",
              "      <td>0.0</td>\n",
              "      <td>5.1</td>\n",
              "    </tr>\n",
              "    <tr>\n",
              "      <th>2</th>\n",
              "      <td>170.2</td>\n",
              "      <td>45.9</td>\n",
              "      <td>0.0</td>\n",
              "    </tr>\n",
              "  </tbody>\n",
              "</table>\n",
              "</div>"
            ],
            "text/plain": [
              "      TV  Radio  Jornal\n",
              "0   23.1    3.8    69.2\n",
              "1   44.5    0.0     5.1\n",
              "2  170.2   45.9     0.0"
            ]
          },
          "metadata": {},
          "output_type": "display_data"
        }
      ],
      "source": [
        "# para aplicar a AI em novos valores cria-se outra base de dados com as mesmas colunas e aplica a previsão\n",
        "nova_tabela = pd.read_csv('novos.csv') # leitura da nova tabela\n",
        "display(nova_tabela)"
      ]
    },
    {
      "cell_type": "code",
      "execution_count": null,
      "metadata": {
        "id": "tEHWJIPrWzoP",
        "outputId": "52d22fdb-2472-4396-ebfb-784fb7f29ba3"
      },
      "outputs": [
        {
          "name": "stdout",
          "output_type": "stream",
          "text": [
            "[ 7.269  8.377 20.013]\n"
          ]
        }
      ],
      "source": [
        "previsao = modelo_arvoredecisao.predict(nova_tabela) # aplicação da previsão da AI com base na melhor regressão escolhida (arvore) nos novos dados\n",
        "# previsao -> variável para receber os valores\n",
        "# modelo_arvoredecisao -> modelo que melhor explicou o comportamento dos dados que foi criado na fase da criação da IA\n",
        "# .predict -> método fazer a previsão com base no modelo criado\n",
        "# (nova_tabela) -> tabela com novos valores para previsão do resultado\n",
        "\n",
        "print(previsao)"
      ]
    }
  ],
  "metadata": {
    "kernelspec": {
      "display_name": "Python 3 (ipykernel)",
      "language": "python",
      "name": "python3"
    },
    "language_info": {
      "codemirror_mode": {
        "name": "ipython",
        "version": 3
      },
      "file_extension": ".py",
      "mimetype": "text/x-python",
      "name": "python",
      "nbconvert_exporter": "python",
      "pygments_lexer": "ipython3",
      "version": "3.9.13"
    },
    "colab": {
      "provenance": [],
      "include_colab_link": true
    }
  },
  "nbformat": 4,
  "nbformat_minor": 0
}